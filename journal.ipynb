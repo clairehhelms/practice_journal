{
 "cells": [
  {
   "cell_type": "markdown",
   "source": [
    "## Hello!\n",
    "This is Claire's practice journal Fall 2021. My goals are to first write this program in this notebook, then eventually convert it into a web app so my entire studio can use it!\n",
    "\n",
    "Author: Claire Helms\n",
    "Date started: 08/05/2021"
   ],
   "metadata": {}
  },
  {
   "cell_type": "markdown",
   "source": [
    "First, I am going to import my template for lesson entries. Then, I will ask the user if they are entering a new entry and write/append to the storage file accordingly."
   ],
   "metadata": {}
  },
  {
   "cell_type": "code",
   "execution_count": 8,
   "source": [
    "%load_ext autoreload\n",
    "%autoreload 2\n",
    "\n",
    "import Lessons\n",
    "import os\n",
    "import csv"
   ],
   "outputs": [
    {
     "output_type": "stream",
     "name": "stdout",
     "text": [
      "The autoreload extension is already loaded. To reload it, use:\n",
      "  %reload_ext autoreload\n"
     ]
    }
   ],
   "metadata": {}
  },
  {
   "cell_type": "code",
   "execution_count": 15,
   "source": [
    "lessons: list[dict[str, str]] = []\n",
    "\n",
    "empty: bool = os.stat('lessons.csv').st_size == 0\n",
    "new_entry: str = input(\"Would you like to add a new Lessons entry? \")\n",
    "\n",
    "if empty and new_entry == \"yes\":\n",
    "    with open('lessons.csv', 'w', encoding='UTF8', newline='') as f:\n",
    "        writer = csv.writer(f)\n",
    "        new_lesson = Lessons.Lesson()\n",
    "        writer.writerow(new_lesson.lesson_dict)\n",
    "        writer.writerow(new_lesson.lesson_dict.values())\n",
    "elif new_entry == \"yes\":\n",
    "    with open('lessons.csv', 'a', encoding='UTF8', newline='') as f:\n",
    "        writer = csv.writer(f)\n",
    "        new_lesson = Lessons.Lesson()\n",
    "        writer.writerow(new_lesson.lesson_dict.values())"
   ],
   "outputs": [],
   "metadata": {}
  },
  {
   "cell_type": "code",
   "execution_count": null,
   "source": [],
   "outputs": [],
   "metadata": {}
  }
 ],
 "metadata": {
  "orig_nbformat": 4,
  "language_info": {
   "name": "python",
   "version": "3.9.1",
   "mimetype": "text/x-python",
   "codemirror_mode": {
    "name": "ipython",
    "version": 3
   },
   "pygments_lexer": "ipython3",
   "nbconvert_exporter": "python",
   "file_extension": ".py"
  },
  "kernelspec": {
   "name": "python3",
   "display_name": "Python 3.9.1 64-bit"
  },
  "interpreter": {
   "hash": "4cd7ab41f5fca4b9b44701077e38c5ffd31fe66a6cab21e0214b68d958d0e462"
  }
 },
 "nbformat": 4,
 "nbformat_minor": 2
}